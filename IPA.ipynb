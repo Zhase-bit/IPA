{
  "nbformat": 4,
  "nbformat_minor": 0,
  "metadata": {
    "colab": {
      "provenance": [],
      "toc_visible": true,
      "authorship_tag": "ABX9TyO2Tu1L4c67uAnjSXos0EmE",
      "include_colab_link": true
    },
    "kernelspec": {
      "name": "python3",
      "display_name": "Python 3"
    },
    "language_info": {
      "name": "python"
    }
  },
  "cells": [
    {
      "cell_type": "markdown",
      "metadata": {
        "id": "view-in-github",
        "colab_type": "text"
      },
      "source": [
        "<a href=\"https://colab.research.google.com/github/Zhase-bit/IPA/blob/main/IPA.ipynb\" target=\"_parent\"><img src=\"https://colab.research.google.com/assets/colab-badge.svg\" alt=\"Open In Colab\"/></a>"
      ]
    },
    {
      "cell_type": "code",
      "execution_count": 1,
      "metadata": {
        "id": "By5eSphjbeEM"
      },
      "outputs": [],
      "source": [
        "import pandas as pd"
      ]
    },
    {
      "cell_type": "markdown",
      "source": [
        "Libreria"
      ],
      "metadata": {
        "id": "PU2kBrnVfGNJ"
      }
    },
    {
      "cell_type": "code",
      "source": [
        "import openpyxl"
      ],
      "metadata": {
        "id": "0NcGzT-UfEU7"
      },
      "execution_count": null,
      "outputs": []
    },
    {
      "cell_type": "markdown",
      "source": [
        "Lectura de un archivo excel"
      ],
      "metadata": {
        "id": "t2qVM5-wfSIp"
      }
    },
    {
      "cell_type": "code",
      "source": [
        "libro = openpyxl.load_workbook(\"G:\\ruta\\archivo.xlsx\")"
      ],
      "metadata": {
        "id": "Q0TkycgKfQIA"
      },
      "execution_count": null,
      "outputs": []
    },
    {
      "cell_type": "code",
      "source": [
        "libro.sheetnames"
      ],
      "metadata": {
        "id": "oKuUQVYcfgDw"
      },
      "execution_count": null,
      "outputs": []
    },
    {
      "cell_type": "code",
      "source": [
        "pestaña = libro['nombre_de_la_hoja']"
      ],
      "metadata": {
        "id": "VMNlGSQVfnXK"
      },
      "execution_count": null,
      "outputs": []
    },
    {
      "cell_type": "code",
      "source": [
        "pestaña['A1'].value"
      ],
      "metadata": {
        "id": "GO6Dl8MbftFp"
      },
      "execution_count": null,
      "outputs": []
    },
    {
      "cell_type": "code",
      "source": [
        "pestaña.cell(row=2,column=1).value"
      ],
      "metadata": {
        "id": "zRyhAU0Yfvy6"
      },
      "execution_count": null,
      "outputs": []
    },
    {
      "cell_type": "code",
      "source": [
        "for i in range(1,6):\n",
        "  print(pestaña.cell(row=i, column=1).value)\n",
        "  "
      ],
      "metadata": {
        "id": "wg7bpDRVf2SJ"
      },
      "execution_count": null,
      "outputs": []
    },
    {
      "cell_type": "markdown",
      "source": [
        "Escritura de un archivo excel"
      ],
      "metadata": {
        "id": "dXinsD6ugGJq"
      }
    },
    {
      "cell_type": "code",
      "source": [
        "pestaña['C1']  = zhase"
      ],
      "metadata": {
        "id": "DUSshazIgEJK"
      },
      "execution_count": null,
      "outputs": []
    },
    {
      "cell_type": "code",
      "source": [
        "pestaña = libro.create_sheet(title=\"Nueva_pestaña\")"
      ],
      "metadata": {
        "id": "OMvqGJmKgMcR"
      },
      "execution_count": null,
      "outputs": []
    },
    {
      "cell_type": "code",
      "source": [
        "libro.save(\"ruta\")"
      ],
      "metadata": {
        "id": "kTYjn28mgRuK"
      },
      "execution_count": null,
      "outputs": []
    }
  ]
}